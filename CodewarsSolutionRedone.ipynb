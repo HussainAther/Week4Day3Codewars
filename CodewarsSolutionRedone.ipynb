{
 "cells": [
  {
   "cell_type": "code",
   "execution_count": 1,
   "id": "cac12aa2",
   "metadata": {},
   "outputs": [],
   "source": [
    "## For homework please revisit 3 codewars problems and refactor your solution to improve their time complexity. \n",
    "\n",
    "## Also read through the following data structures for some additional understanding!"
   ]
  },
  {
   "cell_type": "code",
   "execution_count": null,
   "id": "9073b48c",
   "metadata": {},
   "outputs": [],
   "source": []
  }
 ],
 "metadata": {
  "kernelspec": {
   "display_name": "Python 3 (ipykernel)",
   "language": "python",
   "name": "python3"
  },
  "language_info": {
   "codemirror_mode": {
    "name": "ipython",
    "version": 3
   },
   "file_extension": ".py",
   "mimetype": "text/x-python",
   "name": "python",
   "nbconvert_exporter": "python",
   "pygments_lexer": "ipython3",
   "version": "3.10.4"
  }
 },
 "nbformat": 4,
 "nbformat_minor": 5
}
