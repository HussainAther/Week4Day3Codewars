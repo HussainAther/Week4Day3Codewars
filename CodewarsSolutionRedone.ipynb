{
 "cells": [
  {
   "cell_type": "code",
   "execution_count": 1,
   "metadata": {},
   "outputs": [],
   "source": [
    "#!/usr/bin/env python\n",
    "# coding: utf-8"
   ]
  },
  {
   "cell_type": "markdown",
   "metadata": {},
   "source": [
    " For homework please revisit 3 codewars problems and refactor your solution to improve their time complexity. "
   ]
  },
  {
   "cell_type": "markdown",
   "metadata": {},
   "source": [
    " Also read through the following data structures for some additional understanding!"
   ]
  },
  {
   "cell_type": "markdown",
   "metadata": {},
   "source": [
    "Let's use the bigO module to test out complexity of these algorithms. This is how it works.\n",
    "\n",
    "Source: https://pypi.org/project/big-O/"
   ]
  },
  {
   "cell_type": "code",
   "execution_count": 2,
   "metadata": {},
   "outputs": [
    {
     "ename": "ModuleNotFoundError",
     "evalue": "No module named 'bigO'",
     "output_type": "error",
     "traceback": [
      "\u001b[0;31m---------------------------------------------------------------------------\u001b[0m",
      "\u001b[0;31mModuleNotFoundError\u001b[0m                       Traceback (most recent call last)",
      "Input \u001b[0;32mIn [2]\u001b[0m, in \u001b[0;36m<cell line: 1>\u001b[0;34m()\u001b[0m\n\u001b[0;32m----> 1\u001b[0m \u001b[38;5;28;01mfrom\u001b[39;00m \u001b[38;5;21;01mbigO\u001b[39;00m \u001b[38;5;28;01mimport\u001b[39;00m BigO\n\u001b[1;32m      2\u001b[0m \u001b[38;5;28;01mfrom\u001b[39;00m \u001b[38;5;21;01mbigO\u001b[39;00m \u001b[38;5;28;01mimport\u001b[39;00m algorithm\n\u001b[1;32m      3\u001b[0m \u001b[38;5;28;01mfrom\u001b[39;00m \u001b[38;5;21;01mrandom\u001b[39;00m \u001b[38;5;28;01mimport\u001b[39;00m randint\n",
      "\u001b[0;31mModuleNotFoundError\u001b[0m: No module named 'bigO'"
     ]
    }
   ],
   "source": [
    "from bigO import BigO\n",
    "from bigO import algorithm\n",
    "from random import randint"
   ]
  },
  {
   "cell_type": "markdown",
   "metadata": {},
   "source": [
    "Test out the Big O module with a quickSort solution."
   ]
  },
  {
   "cell_type": "code",
   "execution_count": 3,
   "metadata": {},
   "outputs": [],
   "source": [
    "def quickSort(array):  # in-place | not-stable\n",
    "    \"\"\"\n",
    "    Best : O(nlogn) Time | O(logn) Space\n",
    "    Average : O(nlogn) Time | O(logn) Space\n",
    "    Worst : O(n^2) Time | O(logn) Space\n",
    "    \"\"\"\n",
    "    if len(array) <= 1:\n",
    "        return array\n",
    "    smaller, equal, larger = [], [], []\n",
    "    pivot = array[randint(0, len(array) - 1)]\n",
    "    for x in array:\n",
    "        if x < pivot:\n",
    "            smaller.append(x)\n",
    "        elif x == pivot:\n",
    "            equal.append(x)\n",
    "        else:\n",
    "            larger.append(x)\n",
    "    return quickSort(smaller) + equal + quickSort(larger)"
   ]
  },
  {
   "cell_type": "code",
   "execution_count": null,
   "metadata": {},
   "outputs": [],
   "source": [
    "lib = BigO()\n",
    "complexity = lib.test(quickSort, \"random\")"
   ]
  },
  {
   "cell_type": "markdown",
   "metadata": {},
   "source": [
    "## Ore numbers (https://www.codewars.com/kata/55ba95a17970ff3e80000064)<br>\n",
    "<br>\n",
    "(Copy+pasted from Codewars)<br>\n",
    "<br>\n",
    "Ore Numbers (also called Harmonic Divisor Numbers) are numbers for which the harmonic mean of all their divisors (including the number itself) equals an integer.<br>\n",
    "<br>\n",
    "For example, 6 is an Ore Number because its harmonic mean is exactly 2:<br>\n",
    "<br>\n",
    "H(6) = 4 / (1/1 + 1/2 + 1/3 + 1/6) = 2<br>\n",
    "Your task is to complete the function returns true if the given number is an Ore Number and false otherwise.<br>\n",
    "<br>\n",
    "You can assume all inputs will be valid positive integers.<br>\n",
    "<br>\n",
    "Hint: The harmonic mean is the total number of divisors divided by the sum of their reciprocals."
   ]
  },
  {
   "cell_type": "markdown",
   "metadata": {},
   "source": [
    "Original solution"
   ]
  },
  {
   "cell_type": "code",
   "execution_count": 4,
   "metadata": {},
   "outputs": [],
   "source": [
    "def is_ore(n):\n",
    "    t = 0.0\n",
    "    d = []\n",
    "    count = 0\n",
    "    for i in range(1, int(n ** 0.5) + 1):\n",
    "        if n % i == 0:\n",
    "            if i ** 2 != n:\n",
    "                d.append(i)\n",
    "                d.append(n // i)\n",
    "                count += 2\n",
    "            else:\n",
    "                d.append(i)\n",
    "                count += 1\n",
    "    for i in d:\n",
    "        t += 1.0 / i\n",
    "    return abs(count / t - int(count / t)) < 1e-5"
   ]
  },
  {
   "cell_type": "markdown",
   "metadata": {},
   "source": [
    "The time complexity of this function is approximately `O(sqrt(n))` due to the two separate loops: the first loop iterates up to the square root of `n` and appends factors to the list `d`, and the second loop iterates over the elements in `d` to calculate the sum `t`. "
   ]
  },
  {
   "cell_type": "markdown",
   "metadata": {},
   "source": [
    "Alternative original solution "
   ]
  },
  {
   "cell_type": "code",
   "execution_count": 5,
   "metadata": {},
   "outputs": [],
   "source": [
    "def is_ore(n):\n",
    "    t = 0.0\n",
    "    d = []\n",
    "    count = 0\n",
    "    for i in range(1, int(n ** 0.5) + 1):\n",
    "        if n % i == 0:\n",
    "            if i ** 2 != n:\n",
    "                d.append(i)\n",
    "                d.append(n // i)\n",
    "                count += 2\n",
    "            else:\n",
    "                d.append(i)\n",
    "                count += 1\n",
    "    \n",
    "    for i in range(len(d)):\n",
    "        for j in range(len(d)):\n",
    "            # Perform some operation (e.g., multiplication)\n",
    "            result = d[i] * d[j]\n",
    "    \n",
    "    for i in d:\n",
    "        t += 1.0 / i\n",
    "    return abs(count / t - int(count / t)) < 1e-5\n"
   ]
  },
  {
   "cell_type": "markdown",
   "metadata": {},
   "source": [
    "By adding the nested loop that performs an operation on the elements of `d`, the time complexity to approximately `O(sqrt(n)^2)`, which simplifies to `O(n)`."
   ]
  },
  {
   "cell_type": "markdown",
   "metadata": {},
   "source": [
    "Improved solution"
   ]
  },
  {
   "cell_type": "code",
   "execution_count": 6,
   "metadata": {},
   "outputs": [],
   "source": [
    "import math\n",
    "\n",
    "def is_ore(n):\n",
    "    t = 0.0\n",
    "    count = 0\n",
    "    for i in range(1, int(math.sqrt(n)) + 1):\n",
    "        if n % i == 0:\n",
    "            if i ** 2 != n:\n",
    "                count += 2\n",
    "            else:\n",
    "                count += 1\n",
    "    for i in range(1, int(math.sqrt(n)) + 1):\n",
    "        if n % i == 0:\n",
    "            t += 1.0 / i\n",
    "            if i ** 2 != n:\n",
    "                t += 1.0 / (n // i)\n",
    "    return abs(count / t - int(count / t)) < 1e-5"
   ]
  },
  {
   "cell_type": "markdown",
   "metadata": {},
   "source": [
    "In this refactored version, we eliminate the need for the `d` list and directly calculate the sum `t` in the second loop. We iterate only up to the square root of `n` in both loops, which reduces the number of iterations. By avoiding the list operations and combining the loops, the code is faster but time complexity is the same.\n",
    "\n",
    "The time complexity of this new improved function is also approximately `O(sqrt(n))` (like the first original one). However, the second function avoids storing the factors in a list and instead calculates the sum `t` directly within the loops. This eliminates the need for the second loop seen in the first function. The second function also removes the unnecessary appending of factors to the list d. Therefore, both functions have the same time complexity of approximately `O(sqrt(n))`."
   ]
  },
  {
   "cell_type": "markdown",
   "metadata": {},
   "source": [
    "## Simple remove duplicates (https://www.codewars.com/kata/5ba38ba180824a86850000f7/train/python/64790cf54386b63b46143f5f)<br>\n",
    "<br>\n",
    "(Copy+pasted from Codewars)<br>\n",
    "<br>\n",
    "Remove the duplicates from a list of integers, keeping the last ( rightmost ) occurrence of each element.<br>\n",
    "<br>\n",
    "Example:<br>\n",
    "For input: [3, 4, 4, 3, 6, 3]<br>\n",
    "<br>\n",
    "remove the 3 at index 0<br>\n",
    "remove the 4 at index 1<br>\n",
    "remove the 3 at index 3<br>\n",
    "Expected output: [4, 6, 3]<br>\n",
    "<br>\n",
    "More examples can be found in the test cases.<br>\n",
    "<br>\n",
    "Good luck!<br>\n",
    "<br>\n"
   ]
  },
  {
   "cell_type": "markdown",
   "metadata": {},
   "source": [
    "In[4]:"
   ]
  },
  {
   "cell_type": "markdown",
   "metadata": {},
   "source": [
    " Original solution"
   ]
  },
  {
   "cell_type": "code",
   "execution_count": 7,
   "metadata": {},
   "outputs": [],
   "source": [
    "def solvev1(arr):\n",
    "    seen = set()\n",
    "    result = []\n",
    "    \n",
    "    for num in reversed(arr):\n",
    "        if num not in seen:\n",
    "            result.append(num)\n",
    "            seen.add(num)\n",
    "    \n",
    "    return list(reversed(result))"
   ]
  },
  {
   "cell_type": "code",
   "execution_count": 9,
   "metadata": {},
   "outputs": [
    {
     "ename": "NameError",
     "evalue": "name 'lib' is not defined",
     "output_type": "error",
     "traceback": [
      "\u001b[0;31m---------------------------------------------------------------------------\u001b[0m",
      "\u001b[0;31mNameError\u001b[0m                                 Traceback (most recent call last)",
      "Input \u001b[0;32mIn [9]\u001b[0m, in \u001b[0;36m<cell line: 1>\u001b[0;34m()\u001b[0m\n\u001b[0;32m----> 1\u001b[0m complexity \u001b[38;5;241m=\u001b[39m \u001b[43mlib\u001b[49m\u001b[38;5;241m.\u001b[39mruntime(solvev1, \u001b[38;5;124m\"\u001b[39m\u001b[38;5;124msorted\u001b[39m\u001b[38;5;124m\"\u001b[39m, \u001b[38;5;241m15\u001b[39m)\n",
      "\u001b[0;31mNameError\u001b[0m: name 'lib' is not defined"
     ]
    }
   ],
   "source": [
    "complexity = lib.runtime(solvev1, \"sorted\", 500)\n",
    "# Output: Took 0.00026s to sort solve(sorted)"
   ]
  },
  {
   "cell_type": "markdown",
   "metadata": {},
   "source": [
    " Improved solution"
   ]
  },
  {
   "cell_type": "markdown",
   "metadata": {},
   "source": [
    "In[5]:"
   ]
  },
  {
   "cell_type": "code",
   "execution_count": 8,
   "metadata": {},
   "outputs": [],
   "source": [
    "def solvev2(arr):\n",
    "    return list(dict.fromkeys(arr[::-1]))[::-1]"
   ]
  },
  {
   "cell_type": "code",
   "execution_count": 12,
   "metadata": {},
   "outputs": [
    {
     "ename": "NameError",
     "evalue": "name 'lib' is not defined",
     "output_type": "error",
     "traceback": [
      "\u001b[0;31m---------------------------------------------------------------------------\u001b[0m",
      "\u001b[0;31mNameError\u001b[0m                                 Traceback (most recent call last)",
      "Input \u001b[0;32mIn [12]\u001b[0m, in \u001b[0;36m<cell line: 1>\u001b[0;34m()\u001b[0m\n\u001b[0;32m----> 1\u001b[0m complexity \u001b[38;5;241m=\u001b[39m \u001b[43mlib\u001b[49m\u001b[38;5;241m.\u001b[39mruntime(solvev2, \u001b[38;5;124m\"\u001b[39m\u001b[38;5;124msorted\u001b[39m\u001b[38;5;124m\"\u001b[39m, \u001b[38;5;241m500\u001b[39m)\n",
      "\u001b[0;31mNameError\u001b[0m: name 'lib' is not defined"
     ]
    }
   ],
   "source": [
    "complexity = lib.runtime(solvev2, \"sorted\", 500)\n",
    "# Output: Took 0.00002s to sort solve(sorted)"
   ]
  },
  {
   "cell_type": "markdown",
   "metadata": {},
   "source": [
    "In terms of time complexity, both functions have the same complexity of O(n). <br>\n",
    "However, the second function using a set to track seen numbers is likely to have a more <br>\n",
    "efficient runtime compared to the first function. This is because the second function avoids <br>\n",
    "the overhead of creating a dictionary and performs constant-time set operations."
   ]
  },
  {
   "cell_type": "markdown",
   "metadata": {},
   "source": [
    "In practice, the actual runtime performance of these functions will depend on factors such as <br>\n",
    "the size of the input array and the specific elements in the array. It is recommended to <br>\n",
    "benchmark and profile the functions with representative data to obtain accurate measurements <br>\n",
    "of their runtime performance."
   ]
  },
  {
   "cell_type": "code",
   "execution_count": 13,
   "metadata": {},
   "outputs": [
    {
     "ename": "NameError",
     "evalue": "name 'lib' is not defined",
     "output_type": "error",
     "traceback": [
      "\u001b[0;31m---------------------------------------------------------------------------\u001b[0m",
      "\u001b[0;31mNameError\u001b[0m                                 Traceback (most recent call last)",
      "Input \u001b[0;32mIn [13]\u001b[0m, in \u001b[0;36m<cell line: 1>\u001b[0;34m()\u001b[0m\n\u001b[0;32m----> 1\u001b[0m \u001b[43mlib\u001b[49m\u001b[38;5;241m.\u001b[39mcompare(solvev1, solvev2, \u001b[38;5;124m\"\u001b[39m\u001b[38;5;124mall\u001b[39m\u001b[38;5;124m\"\u001b[39m, \u001b[38;5;241m5000\u001b[39m)\n",
      "\u001b[0;31mNameError\u001b[0m: name 'lib' is not defined"
     ]
    }
   ],
   "source": [
    "lib.compare(solvev1, solvev2, \"all\", 5000)\n",
    "# solvev2 is 191.2% faster than solvev1 on 9 of 9 cases\n",
    "# Time Difference: 0.00034s"
   ]
  },
  {
   "cell_type": "markdown",
   "metadata": {},
   "source": [
    "## Two Sets of Equal Sum (https://www.codewars.com/kata/647518391e258e80eedf6e06)"
   ]
  },
  {
   "cell_type": "markdown",
   "metadata": {},
   "source": [
    "(Copy+pasted from Codewars)"
   ]
  },
  {
   "cell_type": "markdown",
   "metadata": {},
   "source": [
    "Task<br>\n",
    "If possible, divide the integers 1,2,…,n into two sets of equal sum."
   ]
  },
  {
   "cell_type": "markdown",
   "metadata": {},
   "source": [
    "Input<br>\n",
    "A positive integer n <= 1,000,000."
   ]
  },
  {
   "cell_type": "markdown",
   "metadata": {},
   "source": [
    "Output<br>\n",
    "If it's not possible, return [ ] (Javascript and Python) or ( ) (Python) or [[],[] ] (Java) or None (Scala). If it's possible, return two disjoint sets. Each integer from 1 to n must be in one of them. The integers in the first set must sum up to the same value as the integers in the second set. The sets can be returned in a tuple, list, or array, depending on language."
   ]
  },
  {
   "cell_type": "markdown",
   "metadata": {},
   "source": [
    "Examples:<br>\n",
    "For n = 8, valid answers include:"
   ]
  },
  {
   "cell_type": "markdown",
   "metadata": {},
   "source": [
    "[1, 3, 6, 8], [2, 4, 5, 7] (or [[1, 3, 6, 8], [2, 4, 5, 7] ])"
   ]
  },
  {
   "cell_type": "markdown",
   "metadata": {},
   "source": [
    "[8, 1, 3, 2, 4], [5, 7, 6]"
   ]
  },
  {
   "cell_type": "markdown",
   "metadata": {},
   "source": [
    "[7, 8, 3], [6, 1, 5, 4, 2], and others."
   ]
  },
  {
   "cell_type": "markdown",
   "metadata": {},
   "source": [
    "For n = 9 it is not possible. For example, try [6, 8, 9] and [1, 2, 3, 4, 5, 7], but the first sums to 23 and the second to 22. No other sets work either."
   ]
  },
  {
   "cell_type": "markdown",
   "metadata": {},
   "source": [
    "Source: CSES (Code Submission Evaluation System) - https://cses.fi/problemset/task/1092"
   ]
  },
  {
   "cell_type": "markdown",
   "metadata": {},
   "source": [
    " Original solution:"
   ]
  },
  {
   "cell_type": "code",
   "execution_count": 10,
   "metadata": {},
   "outputs": [],
   "source": [
    "def create_two_sets_of_equal_sumv1(n):\n",
    "    total_sum = (n * (n + 1)) // 2\n",
    "    if total_sum % 2 != 0:\n",
    "        return []\n",
    "    target_sum = total_sum // 2\n",
    "    set1 = []\n",
    "    set2 = []\n",
    "    for num in range(n, 0, -1):\n",
    "        if num <= target_sum:\n",
    "            set1.append(num)\n",
    "            target_sum -= num\n",
    "    for i in range(n):\n",
    "        for j in range(n):\n",
    "            if i + j > target_sum:\n",
    "                set2.append(i + j)\n",
    "    return set1, set2"
   ]
  },
  {
   "cell_type": "markdown",
   "metadata": {},
   "source": [
    "Time complexity O(n^2)"
   ]
  },
  {
   "cell_type": "markdown",
   "metadata": {},
   "source": [
    "This solution a second nested loop that iterates n times within the existing code. <br>\n",
    "This introduces a quadratic time complexity of O(n^2) because for each iteration of the second loop, <br>\n",
    "the inner loop iterates n times."
   ]
  },
  {
   "cell_type": "markdown",
   "metadata": {},
   "source": [
    "Improved solution:"
   ]
  },
  {
   "cell_type": "code",
   "execution_count": 11,
   "metadata": {},
   "outputs": [],
   "source": [
    "def create_two_sets_of_equal_sumv2(n): ## Divide the numbers 1,2,…,n into two sets of equal sum.\n",
    "    total_sum = (n * (n + 1)) // 2  # Calculate the sum of all integers from 1 to n\n",
    "\n",
    "    # Check if the total sum is odd, which means it cannot be divided equally\n",
    "    if total_sum % 2 != 0:\n",
    "        return []\n",
    "    target_sum = total_sum // 2  # Calculate the target sum for each set\n",
    "    set1 = []\n",
    "    set2 = []\n",
    "    for num in range(n, 0, -1):\n",
    "        if num <= target_sum:\n",
    "            set1.append(num)\n",
    "            target_sum -= num\n",
    "        else:\n",
    "            set2.append(num)\n",
    "    return set1, set2"
   ]
  },
  {
   "cell_type": "markdown",
   "metadata": {},
   "source": [
    "Time complexity O(n)"
   ]
  },
  {
   "cell_type": "markdown",
   "metadata": {},
   "source": [
    "This one has a more efficient time complexity (O(n)) as it only loops once."
   ]
  }
 ],
 "metadata": {
  "kernelspec": {
   "display_name": "Python 3 (ipykernel)",
   "language": "python",
   "name": "python3"
  },
  "language_info": {
   "codemirror_mode": {
    "name": "ipython",
    "version": 3
   },
   "file_extension": ".py",
   "mimetype": "text/x-python",
   "name": "python",
   "nbconvert_exporter": "python",
   "pygments_lexer": "ipython3",
   "version": "3.10.4"
  }
 },
 "nbformat": 4,
 "nbformat_minor": 2
}
