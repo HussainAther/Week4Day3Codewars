{
 "cells": [
  {
   "cell_type": "code",
   "execution_count": 1,
   "id": "6eb64da9",
   "metadata": {},
   "outputs": [],
   "source": [
    "## For homework please revisit 3 codewars problems and refactor your solution to improve their time complexity. \n",
    "\n",
    "## Also read through the following data structures for some additional understanding!"
   ]
  },
  {
   "cell_type": "markdown",
   "id": "364d4212",
   "metadata": {},
   "source": [
    "## Ore numbers"
   ]
  },
  {
   "cell_type": "code",
   "execution_count": 4,
   "id": "d778df77",
   "metadata": {},
   "outputs": [],
   "source": [
    "# Original solution\n",
    "\n",
    "def is_ore(n):\n",
    "    t = 0.0\n",
    "    d = []\n",
    "    count = 0\n",
    "\n",
    "    for i in range(1, int(n ** 0.5) + 1):\n",
    "        if n % i == 0:\n",
    "            if i ** 2 != n:\n",
    "                d.append(i)\n",
    "                d.append(n // i)\n",
    "                count += 2\n",
    "            else:\n",
    "                d.append(i)\n",
    "                count += 1\n",
    "\n",
    "    for i in d:\n",
    "        t += 1.0 / i\n",
    "\n",
    "    return abs(count / t - int(count / t)) < 1e-5"
   ]
  },
  {
   "cell_type": "code",
   "execution_count": 5,
   "id": "d7fb02b9",
   "metadata": {},
   "outputs": [],
   "source": [
    "# Improved solution\n",
    "\n",
    "import math\n",
    "\n",
    "def is_ore(n):\n",
    "    t = 0.0\n",
    "    count = 0\n",
    "\n",
    "    for i in range(1, int(math.sqrt(n)) + 1):\n",
    "        if n % i == 0:\n",
    "            if i ** 2 != n:\n",
    "                count += 2\n",
    "            else:\n",
    "                count += 1\n",
    "\n",
    "    for i in range(1, int(math.sqrt(n)) + 1):\n",
    "        if n % i == 0:\n",
    "            t += 1.0 / i\n",
    "            if i ** 2 != n:\n",
    "                t += 1.0 / (n // i)\n",
    "\n",
    "    return abs(count / t - int(count / t)) < 1e-5\n"
   ]
  },
  {
   "cell_type": "markdown",
   "id": "8fcac62f",
   "metadata": {},
   "source": [
    "In this refactored version, we eliminate the need for the `d` list and directly calculate the sum `t` in the second loop. We iterate only up to the square root of `n` in both loops, which reduces the number of iterations. By avoiding the list operations and combining the loops, we improve the overall time complexity of the code."
   ]
  }
 ],
 "metadata": {
  "kernelspec": {
   "display_name": "Python 3 (ipykernel)",
   "language": "python",
   "name": "python3"
  },
  "language_info": {
   "codemirror_mode": {
    "name": "ipython",
    "version": 3
   },
   "file_extension": ".py",
   "mimetype": "text/x-python",
   "name": "python",
   "nbconvert_exporter": "python",
   "pygments_lexer": "ipython3",
   "version": "3.10.4"
  }
 },
 "nbformat": 4,
 "nbformat_minor": 5
}
